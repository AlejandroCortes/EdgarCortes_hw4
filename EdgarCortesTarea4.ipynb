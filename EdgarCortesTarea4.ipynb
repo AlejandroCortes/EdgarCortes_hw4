{
 "metadata": {
  "name": "",
  "signature": "sha256:060d55df2415f67658388d11dbbb930664356e5c9499aabbd0b86e1015fcac90"
 },
 "nbformat": 3,
 "nbformat_minor": 0,
 "worksheets": [
  {
   "cells": [
    {
     "cell_type": "heading",
     "level": 1,
     "metadata": {},
     "source": [
      "Tarea 4: Metodos Computacionales"
     ]
    },
    {
     "cell_type": "markdown",
     "metadata": {},
     "source": [
      "A continuacion se muestra el tratamiento de datos de tiros parabolicos realizados por los estudiantes de fisica 1, se realizara primero una limpieza de datos (eliminacion de ruido), luego se hara una descomposicion LU para hallar los valores de Yo (Altura inicial, Vo (Velocidad inicial), ao (aceleracion inicial). "
     ]
    },
    {
     "cell_type": "code",
     "collapsed": false,
     "input": [
      "%pylab inline\n",
      "import numpy as np #permite usar arreglos de N-objetos y operaciones matematicas\n",
      "import os #Proporciona la forma para usar el sistema operativo\n",
      "from matplotlib import pyplot as plt "
     ],
     "language": "python",
     "metadata": {},
     "outputs": [
      {
       "output_type": "stream",
       "stream": "stdout",
       "text": [
        "Populating the interactive namespace from numpy and matplotlib\n"
       ]
      }
     ],
     "prompt_number": 96
    },
    {
     "cell_type": "heading",
     "level": 3,
     "metadata": {},
     "source": [
      "Limpieza de ruido de los datos obtenidos"
     ]
    },
    {
     "cell_type": "markdown",
     "metadata": {},
     "source": [
      "No todos los datos tomados en un experimento son datos buenos, algunos por errores de la persona que mide o del instrumento de medicion usado terminan siendo ruido para el analisis de datos. De esta manera, se eliminaran los datos que no se acoplen al modelo fisico de tiro parabolico, es decir que los datos muestren la forma de una parabola.\n",
      "\n",
      "Primero se necesita abrir cada archivo. Para esto, es necesario saber los nombres de estos y el numero total que hay en el directorio que se entrego para la tarea."
     ]
    },
    {
     "cell_type": "code",
     "collapsed": false,
     "input": [
      "lista = os.listdir('Brahe-3141-f') #Devuelve una lista con los nombres de los archivos que se encuentran en el directorio dado por parametro\n",
      "numero = len(lista) #contar numero de archivos que tiene la lista\n",
      "numero2 = 38 #numero de parejas de datos que tiene cada archivo\n",
      "ruido = 0\n",
      "for i in range (numero):\n",
      "    Nraiz= 'Brahe-3141-f/'+ lista[i]\n",
      "    archivo = loadtxt(Nraiz) #abrir archivo cuyo nombre es Nraiz\n",
      "    y = archivo[:,1] #tomar los datos de y (Altura alcanzada por el objeto)\n",
      "    maximo = 0\n",
      "    recorrido = 0\n",
      "    malos = 0\n",
      "    while(maximo == 0):\n",
      "        if(y[recorrido]>y[recorrido+1]): #determina el primer maximo de la grafica\n",
      "            maximo = y[recorrido]\n",
      "        recorrido +=1\n",
      "    while(recorrido < numero2 and malos == 0): #evalua si los siguientes valores (aumento de tiempo) son menores al maximo establecido\n",
      "        if(maximo<y[recorrido]):\n",
      "            malos +=1\n",
      "            os.remove(Nraiz) #elimina aquellos archivos que no se comportan como una parabola que es el modelo fisico que describe el tiro parabolico\n",
      "        recorrido +=1\n",
      "    if(malos>0):\n",
      "        ruido +=1\n",
      "print (ruido)  "
     ],
     "language": "python",
     "metadata": {},
     "outputs": [
      {
       "output_type": "stream",
       "stream": "stdout",
       "text": [
        "116\n"
       ]
      }
     ],
     "prompt_number": 97
    },
    {
     "cell_type": "markdown",
     "metadata": {},
     "source": [
      "Fueron eliminados 116 archivos que son ruido en el analisis de datos"
     ]
    },
    {
     "cell_type": "code",
     "collapsed": false,
     "input": [
      "lista = os.listdir('Brahe-3141-f') #Devuelve una lista con los nombres de los archivos que se encuentran en el directorio dado por parametro\n",
      "numero = len(lista) #contar numero de archivos que tiene la lista\n",
      "print numero\n"
     ],
     "language": "python",
     "metadata": {},
     "outputs": [
      {
       "output_type": "stream",
       "stream": "stdout",
       "text": [
        "884\n"
       ]
      }
     ],
     "prompt_number": 98
    },
    {
     "cell_type": "markdown",
     "metadata": {},
     "source": [
      "Ahora quedan 884 archivos en el directorio Brahe-3141-f"
     ]
    },
    {
     "cell_type": "heading",
     "level": 3,
     "metadata": {},
     "source": [
      "Regresiones Lineales"
     ]
    },
    {
     "cell_type": "markdown",
     "metadata": {},
     "source": [
      "Se ha decidido que la fisica que mejor aplica a los datos recividos es la cinematica de un movimiento uniformemente acelerado. El modelo que describe la posicion de un objeto con respecto al tiempo es la siguiente:\n",
      "\n",
      "$$y(t) = Yo + Vot + {aot^2}/2$$"
     ]
    },
    {
     "cell_type": "code",
     "collapsed": false,
     "input": [],
     "language": "python",
     "metadata": {},
     "outputs": []
    }
   ],
   "metadata": {}
  }
 ]
}