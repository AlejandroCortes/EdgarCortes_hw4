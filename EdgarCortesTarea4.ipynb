{
 "metadata": {
  "name": "",
  "signature": "sha256:8dbc41fc658f87e30f406baaf2c9af0834086982e6119b9cf2c5d87172eb0e52"
 },
 "nbformat": 3,
 "nbformat_minor": 0,
 "worksheets": [
  {
   "cells": [
    {
     "cell_type": "heading",
     "level": 1,
     "metadata": {},
     "source": [
      "Tarea 4: Metodos Computacionales"
     ]
    },
    {
     "cell_type": "markdown",
     "metadata": {},
     "source": [
      "A continuacion se muestra el tratamiento de datos de tiros parabolicos realizados por los estudiantes de fisica 1, se realizara primero una limpieza de datos (eliminacion de ruido), luego se hara una descomposicion LU para hallar los valores de Yo (Altura inicial, Vo (Velocidad inicial), ao (aceleracion inicial). "
     ]
    },
    {
     "cell_type": "code",
     "collapsed": false,
     "input": [
      "%pylab inline\n",
      "import numpy as np #permite usar arreglos de N-objetos y operaciones matematicas\n",
      "import os #Proporciona la forma para usar el sistema operativo\n",
      "from matplotlib import pyplot as plt \n",
      "import math"
     ],
     "language": "python",
     "metadata": {},
     "outputs": [
      {
       "output_type": "stream",
       "stream": "stdout",
       "text": [
        "Populating the interactive namespace from numpy and matplotlib\n"
       ]
      },
      {
       "output_type": "stream",
       "stream": "stderr",
       "text": [
        "WARNING: pylab import has clobbered these variables: ['f']\n",
        "`%matplotlib` prevents importing * from pylab and numpy\n"
       ]
      }
     ],
     "prompt_number": 177
    },
    {
     "cell_type": "heading",
     "level": 3,
     "metadata": {},
     "source": [
      "Limpieza de ruido de los datos obtenidos"
     ]
    },
    {
     "cell_type": "markdown",
     "metadata": {},
     "source": [
      "No todos los datos tomados en un experimento son datos buenos, algunos por errores de la persona que mide o del instrumento de medicion usado terminan siendo ruido para el analisis de datos. De esta manera, se eliminaran los datos que no se acoplen al modelo fisico de tiro parabolico, es decir que los datos muestren la forma de una parabola.\n",
      "\n",
      "Primero se necesita abrir cada archivo. Para esto, es necesario saber los nombres de estos y el numero total que hay en el directorio que se entrego para la tarea."
     ]
    },
    {
     "cell_type": "code",
     "collapsed": false,
     "input": [
      "lista = os.listdir('Brahe-3141-f') #Devuelve una lista con los nombres de los archivos que se encuentran en el directorio dado por parametro\n",
      "numero = len(lista) #contar numero de archivos que tiene la lista\n",
      "numero2 = 38 #numero de parejas de datos que tiene cada archivo\n",
      "ruido = 0\n",
      "for i in range (numero):\n",
      "    Nraiz= 'Brahe-3141-f/'+ lista[i]\n",
      "    archivo = loadtxt(Nraiz) #abrir archivo cuyo nombre es Nraiz\n",
      "    y = archivo[:,1] #tomar los datos de y (Altura alcanzada por el objeto)\n",
      "    maximo = 0\n",
      "    recorrido = 0\n",
      "    malos = 0\n",
      "    while(maximo == 0):\n",
      "        if(y[recorrido]>y[recorrido+1]): #determina el primer maximo de la grafica\n",
      "            maximo = y[recorrido]\n",
      "        recorrido +=1\n",
      "    while(recorrido < numero2 and malos == 0): #evalua si los siguientes valores (aumento de tiempo) son menores al maximo establecido\n",
      "        if(maximo<y[recorrido]):\n",
      "            malos +=1\n",
      "            os.remove(Nraiz) #elimina aquellos archivos que no se comportan como una parabola que es el modelo fisico que describe el tiro parabolico\n",
      "        recorrido +=1\n",
      "    if(malos>0):\n",
      "        ruido +=1"
     ],
     "language": "python",
     "metadata": {},
     "outputs": [],
     "prompt_number": 178
    },
    {
     "cell_type": "markdown",
     "metadata": {},
     "source": [
      "Fueron eliminados 116 archivos que son ruido en el analisis de datos"
     ]
    },
    {
     "cell_type": "code",
     "collapsed": false,
     "input": [
      "lista2 = os.listdir('Brahe-3141-f') #Devuelve una lista con los nombres de los archivos que se encuentran en el directorio dado por parametro\n",
      "numero2 = len(lista2) #contar numero de archivos que tiene la lista\n",
      "print numero"
     ],
     "language": "python",
     "metadata": {},
     "outputs": [
      {
       "output_type": "stream",
       "stream": "stdout",
       "text": [
        "884\n"
       ]
      }
     ],
     "prompt_number": 179
    },
    {
     "cell_type": "markdown",
     "metadata": {},
     "source": [
      "Ahora quedan 884 archivos en el directorio Brahe-3141-f"
     ]
    },
    {
     "cell_type": "heading",
     "level": 3,
     "metadata": {},
     "source": [
      "Regresiones Lineales"
     ]
    },
    {
     "cell_type": "markdown",
     "metadata": {},
     "source": [
      "Se ha decidido que la fisica que mejor aplica a los datos recividos es la cinematica de un movimiento uniformemente acelerado. El modelo que describe la posicion de un objeto con respecto al tiempo es la siguiente:\n",
      "\n",
      "$$y(t) = y_{o}+ v_{o}t + \\frac{a_{o}}{2}t^2$$\n",
      "\n",
      "como tengo varias medidas de altura y, y de tiempo t, entonces puedo expresar lo anterior de la siguiente manera:\n",
      "\n",
      "$$\\begin{pmatrix}\n",
      "  y_{1} \\\\\n",
      "  y_{2} \\\\\n",
      "  \\vdots  \\\\\n",
      "  y_{m} \n",
      " \\end{pmatrix} =\n",
      " \\begin{pmatrix}\n",
      "  1 & t_{1} & \\frac{1}{2}t^2_{1} \\\\\n",
      "  1 & t_{2} & \\frac{1}{2}t^2_{2} \\\\\n",
      "  \\vdots  & \\vdots  & \\vdots  \\\\\n",
      "  1 & t_{m} & \\frac{1}{2}t^2_{m}\n",
      " \\end{pmatrix}\n",
      " \\begin{pmatrix}\n",
      "  y_{o} \\\\\n",
      "  v_{o} \\\\\n",
      "  a_{o}\n",
      " \\end{pmatrix}$$\n",
      " \n",
      " para solucionar este sistema y encontrar los valores de Yo, Vo y ao, se deben realizar los siguientes pasos:\n",
      " \n",
      " $$\\begin{pmatrix}\n",
      "  y_{1} \\\\\n",
      "  y_{2} \\\\\n",
      "  \\vdots  \\\\\n",
      "  y_{m} \n",
      " \\end{pmatrix} = d ; \\begin{pmatrix}\n",
      "  1 & t_{1} & \\frac{1}{2}t^2_{1} \\\\\n",
      "  1 & t_{2} & \\frac{1}{2}t^2_{2} \\\\\n",
      "  \\vdots  & \\vdots  & \\vdots  \\\\\n",
      "  1 & t_{m} & \\frac{1}{2}t^2_{m}\n",
      " \\end{pmatrix} = G ; \\begin{pmatrix}\n",
      "  y_{o} \\\\\n",
      "  v_{o} \\\\\n",
      "  a_{o}\n",
      " \\end{pmatrix} = x$$\n",
      " \n",
      " $$G^Td = G^TGx$$\n",
      " \n",
      " donde \n",
      " \n",
      " $$G^T ; G^TG = A ; G^Td = b$$ \n",
      " \n",
      " que corresponden a la matriz transpuesta de G, una matriz de 3X3 y una de 3X1 respectivamente\n",
      " \n",
      " Ahora, tenemos el sistema de la forma Ax=b y podemos usar el metodo de descomposicion de Cholesky para hallar los valores que se desean obtener.\n",
      " \n",
      " Lo anterior fue obtenido de: https://github.com/forero/ComputationalMethods/blob/master/notes/lin_algebra.pdf\n",
      " \n"
     ]
    },
    {
     "cell_type": "heading",
     "level": 3,
     "metadata": {},
     "source": [
      "Hallar la Matriz A"
     ]
    },
    {
     "cell_type": "markdown",
     "metadata": {},
     "source": [
      "como todos los archivos tienen exactamente la misma escala de tiempo, el problema se puede reducir a solo hallar una matriz A para todos los archivos."
     ]
    },
    {
     "cell_type": "code",
     "collapsed": false,
     "input": [
      "def transpuesta(a): #funcion que permite crear la matriz transpuesta de la matriz G\n",
      "    b=np.matrix(np.zeros((3,38)))\n",
      "    for e in range(3):\n",
      "        for r in range(38):\n",
      "            b[e,r]=a[r,e]\n",
      "    return b"
     ],
     "language": "python",
     "metadata": {},
     "outputs": [],
     "prompt_number": 180
    },
    {
     "cell_type": "code",
     "collapsed": false,
     "input": [
      "Nraiz2= 'Brahe-3141-f/'+ lista[0]\n",
      "archivito = loadtxt(Nraiz2) #abrir archivo cuyo nombre es Nraiz2\n",
      "t = archivito[:,0] #esta es la columna tiempo que es igual para todos los archivos\n",
      "numero2=38 #numero de parejas de datos que hay por cada archivo\n",
      "matri=np.zeros((numero2,3)) #vamos a crear la matriz G siguiendo las especificaciones puestas antes en la seccion de regresion lineal\n",
      "for q in range (numero2):\n",
      "    matri[q,0]=1.0\n",
      "    matri[q,1]=t[q]\n",
      "    matri[q,2]=0.5*(t[q]*t[q])\n",
      "\n",
      "M1 = np.matrix(matri) #convierte el arreglo en una matriz para poder realizar operaciones matriciales\n",
      "M2 = np.matrix(matri)\n",
      "M2T = transpuesta(M2) #G transpuesta\n",
      "A = M2T*M1 #Esto lo vimos en clase, creo que no hay necesidad de hacer codigo para la multiplicacion de las matrices\n",
      "print A"
     ],
     "language": "python",
     "metadata": {},
     "outputs": [
      {
       "output_type": "stream",
       "stream": "stdout",
       "text": [
        "[[  38.           76.          102.70270346]\n",
        " [  76.          205.40540692  312.21622076]\n",
        " [ 102.70270346  312.21622076  506.1765484 ]]\n"
       ]
      }
     ],
     "prompt_number": 192
    },
    {
     "cell_type": "heading",
     "level": 3,
     "metadata": {},
     "source": [
      "Descomposicion de Cholesky"
     ]
    },
    {
     "cell_type": "markdown",
     "metadata": {},
     "source": [
      "En matem\u00e1ticas, la factorizaci\u00f3n o descomposici\u00f3n de Cholesky toma su nombre del matem\u00e1tico Andr\u00e9-Louis Cholesky, quien encontr\u00f3 que una matriz sim\u00e9trica definida positiva puede ser descompuesta como el producto de una matriz triangular inferior y la traspuesta de la matriz triangular inferior. La matriz triangular inferior es el tri\u00e1ngulo de Cholesky de la matriz original positiva definida. El resultado de Cholesky ha sido extendido a matrices con entradas complejas. Es una manera de resolver sistemas de ecuaciones matriciales y se deriva de la factorizaci\u00f3n LU con una peque\u00f1a variaci\u00f3n. (Tomado de Wikipedia)\n",
      "\n",
      "$$\\begin{pmatrix}\n",
      "  1 & 2 & 4 \\\\\n",
      "  2 & 13 & 23 \\\\\n",
      "  4  & 23  & 77\n",
      " \\end{pmatrix} =\n",
      " \\begin{pmatrix}\n",
      "  1 & 0 & 0 \\\\\n",
      "  2 & 3 & 0 \\\\\n",
      "  4  & 5  & 6\n",
      " \\end{pmatrix}\n",
      " \\begin{pmatrix}\n",
      "  1 & 2 & 4 \\\\\n",
      "  0 & 3 & 5 \\\\\n",
      "  0  & 0  & 6\n",
      " \\end{pmatrix}$$\n",
      " \n",
      " $$\\begin{pmatrix}\n",
      " A\n",
      " \\end{pmatrix}=\\begin{pmatrix}\n",
      " L\n",
      " \\end{pmatrix}\\begin{pmatrix}\n",
      " L\n",
      " \\end{pmatrix}^T$$\n",
      "\n",
      "A continuaci\u00f3n se muestra la forma de hallar los componentes de la matriz L de filas k y columnas i. K=1,2...n (n es la dimensi\u00f3n de la matriz) y i = 1,2...(k-1)\n",
      "\n",
      " $$l_{ki}=\\frac{a_{ki}-\\sum_{j=1}^{i-1}(l_{ij}l_{kj})}{l_{ii}}$$\n",
      " $$l_{kk}=\\sqrt{a_{kk}-\\sum_{j=1}^{k-1}(l_{kj}^2)}$$\n"
     ]
    },
    {
     "cell_type": "code",
     "collapsed": false,
     "input": [
      "n=np.matrix(np.zeros((3,3)))\n",
      "#se que la idea no era hacerlo paso a paso, sino que usando las sumatorias, pero no pude, entonces lo hice paso paso para tener el resultado y hallar los otros puntos.\n",
      "n[0,0]+=math.sqrt(A[0,0])\n",
      "n[1,0]+=A[1,0]/n[0,0]\n",
      "n[2,0]+=A[2,0]/n[0,0]\n",
      "n[0,1]+=0.0\n",
      "n[0,2]+=0.0\n",
      "n[1,2]+=0.0\n",
      "n[1,1]+=math.sqrt(A[1,1]-(n[1,0]*n[1,0]))\n",
      "n[2,1]+=(A[2,1]-(n[1,0]*n[2,0]))/n[1,1]\n",
      "n[2,2]+=math.sqrt(A[2,2]-((n[2,0]*n[2,0])+(n[2,1]*n[2,1])))\n",
      "print n"
     ],
     "language": "python",
     "metadata": {},
     "outputs": [
      {
       "output_type": "stream",
       "stream": "stdout",
       "text": [
        "[[  6.164414     0.           0.        ]\n",
        " [ 12.32882801   7.30790031   0.        ]\n",
        " [ 16.66057851  14.61580062   3.87040624]]\n"
       ]
      }
     ],
     "prompt_number": 197
    },
    {
     "cell_type": "markdown",
     "metadata": {},
     "source": [
      "Esta es la matriz L"
     ]
    },
    {
     "cell_type": "code",
     "collapsed": false,
     "input": [
      "nT=n.T #forma de hallar la transpuesta mas rapido\n",
      "print nT"
     ],
     "language": "python",
     "metadata": {},
     "outputs": [
      {
       "output_type": "stream",
       "stream": "stdout",
       "text": [
        "[[  6.164414    12.32882801  16.66057851]\n",
        " [  0.           7.30790031  14.61580062]\n",
        " [  0.           0.           3.87040624]]\n"
       ]
      }
     ],
     "prompt_number": 199
    },
    {
     "cell_type": "markdown",
     "metadata": {},
     "source": [
      "Esta es la transpuesta de L"
     ]
    },
    {
     "cell_type": "heading",
     "level": 3,
     "metadata": {},
     "source": [
      "Matriz B"
     ]
    },
    {
     "cell_type": "code",
     "collapsed": false,
     "input": [
      "for z in range(numero3):\n",
      "    Nraiz2= 'Brahe-3141-f/'+ lista[z]\n",
      "    archivito = loadtxt(Nraiz2) #abrir archivo cuyo nombre es Nraiz2\n",
      "    y = archivito[:,1] #esta es la columna tiempo que es igual para todos los archivos\n",
      "    numero2=38 #numero de parejas de datos que hay por cada archivo"
     ],
     "language": "python",
     "metadata": {},
     "outputs": [],
     "prompt_number": 200
    },
    {
     "cell_type": "code",
     "collapsed": false,
     "input": [],
     "language": "python",
     "metadata": {},
     "outputs": []
    }
   ],
   "metadata": {}
  }
 ]
}